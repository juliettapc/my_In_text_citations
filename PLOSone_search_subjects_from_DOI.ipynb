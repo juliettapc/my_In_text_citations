{
 "cells": [
  {
   "cell_type": "code",
   "execution_count": null,
   "metadata": {},
   "outputs": [],
   "source": [
    "import json\n",
    "import requests\n",
    "import urllib"
   ]
  },
  {
   "cell_type": "code",
   "execution_count": null,
   "metadata": {},
   "outputs": [],
   "source": [
    "api_key = \"<PASTE-YOUR-KEY>\"\n",
    "\n",
    "ids = [\n",
    "    \"10.1371/journal.pone.0001958\",\n",
    "    \"10.1371/journal.pone.0001980\",\n",
    "    \"10.1371/journal.pone.0002012\",\n",
    "    \"10.1371/journal.pone.0002488\",\n",
    "    \"10.1371/journal.pone.0002585\",\n",
    "    \"10.1371/journal.pone.0002595\",\n",
    "    \"10.1371/journal.pone.0002626\",\n",
    "    \"10.1371/journal.pone.0003116\",\n",
    "    \"10.1371/journal.pone.0003188\",\n",
    "    \"10.1371/journal.pone.0003104\",\n",
    "    \"10.1371/journal.pone.0003904\"\n",
    "]\n",
    "list_fields = [\"doi\", \"subject\", \"subject_level_1\"]"
   ]
  },
  {
   "cell_type": "code",
   "execution_count": null,
   "metadata": {},
   "outputs": [],
   "source": [
    "def search_ids(ids, fields):\n",
    "    q = urllib.parse.quote\n",
    "    q_ids = \" OR \".join([\"id:{}\".format(id) for id in ids])\n",
    "    values = dict(\n",
    "        api_key=api_key,\n",
    "        wt=\"json\",\n",
    "        fq=\"doc_type:full AND !article_type_facet:\\\"Issue Image\\\"\",\n",
    "        q=q_ids, #\"id:\\\"{}\\\"\".format(dois),\n",
    "        fl=\",\".join(fields)\n",
    "    )\n",
    "    params = \"&\".join([\"{}={}\".format(k, q(v)) for k, v in values.items()])\n",
    "    return \"http://api.plos.org/search?{}\".format(params)"
   ]
  },
  {
   "cell_type": "code",
   "execution_count": null,
   "metadata": {},
   "outputs": [],
   "source": [
    "search_url = search_ids(ids, list_fields)\n",
    "response = requests.get(search_url)\n",
    "data = json.loads(response.content.decode(\"utf-8\"))\n",
    "if \"error\" in data:\n",
    "    print(\"E: {}\".format(data[\"error\"]))\n",
    "else:\n",
    "    print(data[\"response\"][\"docs\"])"
   ]
  },
  {
   "cell_type": "code",
   "execution_count": null,
   "metadata": {},
   "outputs": [],
   "source": []
  }
 ],
 "metadata": {
  "kernelspec": {
   "display_name": "Python 3",
   "language": "python",
   "name": "python3"
  },
  "language_info": {
   "codemirror_mode": {
    "name": "ipython",
    "version": 3
   },
   "file_extension": ".py",
   "mimetype": "text/x-python",
   "name": "python",
   "nbconvert_exporter": "python",
   "pygments_lexer": "ipython3",
   "version": "3.4.4"
  }
 },
 "nbformat": 4,
 "nbformat_minor": 2
}
