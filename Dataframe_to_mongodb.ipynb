{
 "cells": [
  {
   "cell_type": "code",
   "execution_count": null,
   "metadata": {
    "collapsed": true
   },
   "outputs": [],
   "source": [
    "# Simple protocol to convert dataframe and upload to mongo database"
   ]
  },
  {
   "cell_type": "code",
   "execution_count": null,
   "metadata": {
    "collapsed": true
   },
   "outputs": [],
   "source": [
    "from MongoConnection import MongoConnection\n",
    "import pickle"
   ]
  },
  {
   "cell_type": "code",
   "execution_count": null,
   "metadata": {
    "collapsed": true
   },
   "outputs": [],
   "source": [
    "# Load pickled dataframe\n",
    "path_to_dfs = '..'\n",
    "ref_df_min = pickle.load(open(path_to_dfs+'/ref_dataframe_min_full.pkl', 'rb'))\n",
    "plos_df = pickle.load(open(path_to_dfs+'/plos_paper_dataframe_full.pkl', 'rb'))\n",
    "cite_df = pickle.load(open(path_to_dfs+'/citation_dataframe_full.pkl', 'rb'))\n",
    "result = ref_df_min.join(cite_df, on='reference_UT')\n",
    "ref_df = result.join(plos_df, on='paper_UT')"
   ]
  },
  {
   "cell_type": "code",
   "execution_count": null,
   "metadata": {
    "collapsed": true
   },
   "outputs": [],
   "source": [
    "# Switch to read/write user before able to generate\n",
    "occ_settings = {\n",
    "    \"host\": \"chicago.chem-eng.northwestern.edu\",\n",
    "    \"port\": \"27017\",\n",
    "    \"db\": \"plos_citation_position\",\n",
    "    \"collection\": \"occurrences\",\n",
    "    \"user\": \"mongoreader\",\n",
    "    \"password\": \"emptycoffeecup\"\n",
    "}\n",
    "occ_con = MongoConnection(occ_settings)"
   ]
  },
  {
   "cell_type": "code",
   "execution_count": null,
   "metadata": {
    "collapsed": true
   },
   "outputs": [],
   "source": [
    "# Convert dataframe to list of dicts - memory intensive, needs >16 GB of RAM. I made it work with 32GB\n",
    "ref_df_dicts = ref_df.to_dict('records')"
   ]
  },
  {
   "cell_type": "code",
   "execution_count": null,
   "metadata": {
    "collapsed": true
   },
   "outputs": [],
   "source": [
    "occ_con.collection.insert_many(ref_df_dicts)"
   ]
  }
 ],
 "metadata": {
  "kernelspec": {
   "display_name": "Python 2",
   "language": "python",
   "name": "python2"
  },
  "language_info": {
   "codemirror_mode": {
    "name": "ipython",
    "version": 2
   },
   "file_extension": ".py",
   "mimetype": "text/x-python",
   "name": "python",
   "nbconvert_exporter": "python",
   "pygments_lexer": "ipython2",
   "version": "2.7.11"
  }
 },
 "nbformat": 4,
 "nbformat_minor": 0
}
