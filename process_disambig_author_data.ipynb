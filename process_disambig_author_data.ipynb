{
 "cells": [
  {
   "cell_type": "code",
   "execution_count": 1,
   "metadata": {},
   "outputs": [
    {
     "data": {
      "text/html": [
       "<style>.container { width:100% !important; }</style>"
      ],
      "text/plain": [
       "<IPython.core.display.HTML object>"
      ]
     },
     "metadata": {},
     "output_type": "display_data"
    }
   ],
   "source": [
    "import sys\n",
    "\n",
    "import pickle\n",
    "import gzip\n",
    "\n",
    "\n",
    "\n",
    "from IPython.core.display import display,HTML\n",
    "display(HTML(\"<style>.container { width:100% !important; }</style>\"))  # to make the notebook use the entire width of the browser\n"
   ]
  },
  {
   "cell_type": "code",
   "execution_count": 2,
   "metadata": {},
   "outputs": [
    {
     "name": "stdout",
     "output_type": "stream",
     "text": [
      "158813\n",
      "2607457\n"
     ]
    },
    {
     "data": {
      "text/plain": [
       "2706287"
      ]
     },
     "execution_count": 2,
     "metadata": {},
     "output_type": "execute_result"
    }
   ],
   "source": [
    "\n",
    "lista_all_plos_UTs = pickle.load(open('../data/lista_all_plos_UTs.pkl', 'rb'))\n",
    "new_lista_all_plos_UTs = ['000'+str(item) for item in lista_all_plos_UTs]\n",
    "print (len(lista_all_plos_UTs))\n",
    "\n",
    "lista_all_reference_UTs = pickle.load(open('../data/lista_all_reference_UTs.pkl', 'rb'))\n",
    "print (len(lista_all_reference_UTs))\n",
    "\n",
    "\n",
    "\n",
    "\n",
    "\n",
    "\n",
    "lista_UTs_plos_and_ref=new_lista_all_plos_UTs+ lista_all_reference_UTs\n",
    "lista_UTs_plos_and_ref =  list(set(lista_UTs_plos_and_ref))\n",
    "len(lista_UTs_plos_and_ref)   #2706287 without repetitions"
   ]
  },
  {
   "cell_type": "code",
   "execution_count": 6,
   "metadata": {},
   "outputs": [],
   "source": [
    "lista_files=[]\n",
    "\n",
    "for i in range(320):\n",
    "    i +=1\n",
    "    file_name='wos_dais_all_batch'+str(i)+'.csv.gz'    \n",
    "    lista_files.append(file_name)\n"
   ]
  },
  {
   "cell_type": "code",
   "execution_count": null,
   "metadata": {},
   "outputs": [],
   "source": []
  },
  {
   "cell_type": "code",
   "execution_count": null,
   "metadata": {},
   "outputs": [],
   "source": []
  },
  {
   "cell_type": "code",
   "execution_count": 29,
   "metadata": {},
   "outputs": [],
   "source": [
    "cont_file=1"
   ]
  },
  {
   "cell_type": "code",
   "execution_count": null,
   "metadata": {
    "scrolled": true
   },
   "outputs": [],
   "source": []
  },
  {
   "cell_type": "code",
   "execution_count": null,
   "metadata": {
    "scrolled": true
   },
   "outputs": [],
   "source": [
    "\n",
    "# path_disamb='/home/workspace/scibio/resources/rbusa/rbusa_main_v1_1/disambiguation/wos_dais/'\n",
    "\n",
    "\n",
    "# tot_cont_lines=0\n",
    "# lista_all_lines=[]\n",
    "# count_file =1\n",
    "# for file_name in lista_files[:10]:\n",
    "    \n",
    "#     print (file_name)\n",
    "\n",
    "\n",
    "#     cont =1    \n",
    "#     with gzip.open(path_disamb+file_name,'r') as f:\n",
    "#         for line in f:\n",
    "         \n",
    "#             UT=str(line).split(\",\")[1]           \n",
    "#             lista_all_lines.append(str(line))\n",
    "\n",
    "#             cont +=1\n",
    "\n",
    "\n",
    "#     print (\"   done,\", cont)\n",
    "#     count_file +=1\n",
    "#     tot_cont_lines += cont    \n",
    "        \n",
    "      \n",
    "# ###############\n",
    "\n",
    "# print (len(lista_all_lines))"
   ]
  },
  {
   "cell_type": "code",
   "execution_count": 13,
   "metadata": {},
   "outputs": [
    {
     "name": "stdout",
     "output_type": "stream",
     "text": [
      "wos_dais_all_batch1.csv.gz\n",
      "  done, 608647\n",
      "wos_dais_all_batch2.csv.gz\n",
      "  done, 616207\n",
      "wos_dais_all_batch3.csv.gz\n",
      "  done, 637643\n",
      "wos_dais_all_batch4.csv.gz\n",
      "  done, 624175\n",
      "wos_dais_all_batch5.csv.gz\n",
      "  done, 644492\n",
      "wos_dais_all_batch6.csv.gz\n",
      "  done, 661753\n",
      "wos_dais_all_batch7.csv.gz\n",
      "  done, 635996\n",
      "wos_dais_all_batch8.csv.gz\n",
      "  done, 622296\n",
      "wos_dais_all_batch9.csv.gz\n",
      "  done, 662577\n",
      "wos_dais_all_batch10.csv.gz\n",
      "  done, 638949\n",
      "  processing batch........\n"
     ]
    },
    {
     "ename": "KeyboardInterrupt",
     "evalue": "",
     "output_type": "error",
     "traceback": [
      "\u001b[0;31m---------------------------------------------------------------------------\u001b[0m",
      "\u001b[0;31mKeyboardInterrupt\u001b[0m                         Traceback (most recent call last)",
      "\u001b[0;32m<ipython-input-13-52c729a1c662>\u001b[0m in \u001b[0;36m<module>\u001b[0;34m()\u001b[0m\n\u001b[1;32m     36\u001b[0m     \u001b[0;32mfor\u001b[0m \u001b[0mline\u001b[0m \u001b[0;32min\u001b[0m \u001b[0mlista_all_lines\u001b[0m\u001b[0;34m:\u001b[0m\u001b[0;34m\u001b[0m\u001b[0m\n\u001b[1;32m     37\u001b[0m         \u001b[0mUT\u001b[0m\u001b[0;34m=\u001b[0m\u001b[0mstr\u001b[0m\u001b[0;34m(\u001b[0m\u001b[0mline\u001b[0m\u001b[0;34m)\u001b[0m\u001b[0;34m.\u001b[0m\u001b[0msplit\u001b[0m\u001b[0;34m(\u001b[0m\u001b[0;34m\",\"\u001b[0m\u001b[0;34m)\u001b[0m\u001b[0;34m[\u001b[0m\u001b[0;36m1\u001b[0m\u001b[0;34m]\u001b[0m\u001b[0;34m\u001b[0m\u001b[0m\n\u001b[0;32m---> 38\u001b[0;31m         \u001b[0;32mif\u001b[0m \u001b[0mUT\u001b[0m \u001b[0;32min\u001b[0m \u001b[0mlista_UTs_plos_and_ref\u001b[0m\u001b[0;34m:\u001b[0m\u001b[0;34m\u001b[0m\u001b[0m\n\u001b[0m\u001b[1;32m     39\u001b[0m             \u001b[0mlista_lines\u001b[0m\u001b[0;34m.\u001b[0m\u001b[0mappend\u001b[0m\u001b[0;34m(\u001b[0m\u001b[0mstr\u001b[0m\u001b[0;34m(\u001b[0m\u001b[0mline\u001b[0m\u001b[0;34m)\u001b[0m\u001b[0;34m)\u001b[0m\u001b[0;34m\u001b[0m\u001b[0m\n\u001b[1;32m     40\u001b[0m     \u001b[0mprint\u001b[0m \u001b[0;34m(\u001b[0m\u001b[0;34m\"     \"\u001b[0m\u001b[0;34m,\u001b[0m\u001b[0mlen\u001b[0m\u001b[0;34m(\u001b[0m\u001b[0mlista_all_lines\u001b[0m\u001b[0;34m)\u001b[0m\u001b[0;34m,\u001b[0m \u001b[0mlen\u001b[0m\u001b[0;34m(\u001b[0m\u001b[0mlista_lines\u001b[0m\u001b[0;34m)\u001b[0m\u001b[0;34m)\u001b[0m\u001b[0;34m\u001b[0m\u001b[0m\n",
      "\u001b[0;31mKeyboardInterrupt\u001b[0m: "
     ]
    }
   ],
   "source": [
    "\n",
    "path_disamb='/home/workspace/scibio/resources/rbusa/rbusa_main_v1_1/disambiguation/wos_dais/'\n",
    "\n",
    "lista_lines=[]\n",
    "tot_cont_lines=0\n",
    "\n",
    "ini=0\n",
    "delta=10\n",
    "fin= ini + delta\n",
    "\n",
    "\n",
    "while fin <= 320:\n",
    "    \n",
    "    lista_all_lines=[]  \n",
    "    for file_name in lista_files[ini:fin]:\n",
    "\n",
    "        print (file_name)\n",
    "\n",
    "\n",
    "        cont =1    \n",
    "        with gzip.open(path_disamb+file_name,'r') as f:\n",
    "            for line in f:\n",
    "\n",
    "                UT=str(line).split(\",\")[1]           \n",
    "                lista_all_lines.append(str(line))\n",
    "\n",
    "                cont +=1\n",
    "\n",
    "\n",
    "        print (\"  done,\", cont)     \n",
    "        tot_cont_lines += cont   \n",
    "\n",
    "\n",
    "    ######### i process the slice of files\n",
    "    print (\"  processing batch........\")\n",
    "    for line in lista_all_lines:\n",
    "        UT=str(line).split(\",\")[1]\n",
    "        if UT in lista_UTs_plos_and_ref:       \n",
    "            lista_lines.append(str(line))\n",
    "    print (\"     \",len(lista_all_lines), len(lista_lines))    \n",
    "\n",
    "\n",
    "    ini +=delta\n",
    "    fin +=delta\n",
    "###############\n",
    "\n",
    "\n",
    "\n",
    "\n",
    "\n",
    "with open('../data/lista_lines_disambig.pkl', 'wb') as handle:\n",
    "     pickle.dump(lista_lines, handle, protocol = 2)\n",
    "print (\"written: ../data/lista_lines_disambig.pkl\")\n",
    "print (\"# lines in selected lines:\", len(lista_lines))"
   ]
  },
  {
   "cell_type": "code",
   "execution_count": 14,
   "metadata": {},
   "outputs": [
    {
     "data": {
      "text/plain": [
       "22370"
      ]
     },
     "execution_count": 14,
     "metadata": {},
     "output_type": "execute_result"
    }
   ],
   "source": [
    "len(lista_lines)"
   ]
  },
  {
   "cell_type": "code",
   "execution_count": null,
   "metadata": {},
   "outputs": [],
   "source": [
    "# lista_lines=[]\n",
    "# for line in lista_all_lines:\n",
    "#     UT=str(line).split(\",\")[1]\n",
    "#     if UT in lista_UTs_plos_and_ref:       \n",
    "#         lista_lines.append(str(line))\n",
    "# print (len(lista_all_lines), len(lista_lines))"
   ]
  },
  {
   "cell_type": "code",
   "execution_count": null,
   "metadata": {},
   "outputs": [],
   "source": []
  },
  {
   "cell_type": "code",
   "execution_count": null,
   "metadata": {},
   "outputs": [],
   "source": []
  }
 ],
 "metadata": {
  "kernelspec": {
   "display_name": "Python 3",
   "language": "python",
   "name": "python3"
  },
  "language_info": {
   "codemirror_mode": {
    "name": "ipython",
    "version": 3
   },
   "file_extension": ".py",
   "mimetype": "text/x-python",
   "name": "python",
   "nbconvert_exporter": "python",
   "pygments_lexer": "ipython3",
   "version": "3.6.4"
  }
 },
 "nbformat": 4,
 "nbformat_minor": 2
}
